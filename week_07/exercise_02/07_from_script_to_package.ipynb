{
 "cells": [
  {
   "cell_type": "code",
   "execution_count": 7,
   "metadata": {},
   "outputs": [
    {
     "name": "stdout",
     "output_type": "stream",
     "text": [
      "RXN SMILES with atom mapping: [CH3:17][S:14](=[O:15])(=[O:16])[N:11]1[CH2:10][CH2:9][N:8](Cc2ccccc2)[CH2:13][CH2:12]1.C1CCCCC1>[OH-].[OH-].[Pd+2].CCO>[CH3:17][S:14](=[O:15])(=[O:16])[N:11]1[CH2:10][CH2:9][NH:8][CH2:13][CH2:12]1\n",
      "*** Remove atom mapping ***\n",
      "RXN SMILES without atom mapping: C1CCCCC1.CS(=O)(=O)N1CCN(Cc2ccccc2)CC1>CCO.[OH-].[OH-].[Pd+2]>CS(=O)(=O)N1CCNCC1\n"
     ]
    }
   ],
   "source": [
    "!python amremover_script.py"
   ]
  },
  {
   "cell_type": "markdown",
   "metadata": {},
   "source": [
    "The amremover_script.py contains the following code:\n",
    "\n",
    "```python\n",
    "# amremover_script.py\n",
    "import re\n",
    "from rdkit import Chem\n",
    "\n",
    "def remove_atom_mapping(smiles: str) -> str:\n",
    "    # from: https://github.com/rxn4chemistry/rxn-chemutils/blob/main/src/rxn/chemutils/utils.py, MIT\n",
    "    \"\"\"\n",
    "    Remove the atom mapping of a reaction SMILES.\n",
    "\n",
    "    The resulting SMILES strings will still contain brackets and it may be\n",
    "    advisable to canonicalize them or clean them up as a postprocessing step.\n",
    "\n",
    "    Args:\n",
    "        smiles: SMILES string potentially containing mapping information.\n",
    "\n",
    "    Returns:\n",
    "        A SMILES string without atom mapping information.\n",
    "    \"\"\"\n",
    "\n",
    "    # We look for \":\" followed by digits before a \"]\" not coming after an \"*\"\n",
    "    return re.sub(r\"(?<=[^\\*])(:\\d+)]\", \"]\", smiles)\n",
    "\n",
    "def canonicalize_smiles(smiles: str) -> str:\n",
    "    \"\"\"\n",
    "    Canonicalize SMILES.\n",
    "\n",
    "    Args:\n",
    "        smiles: SMILES string, potentially not canonical \n",
    "\n",
    "    Returns:\n",
    "        A canonical SMILES string.\n",
    "    \"\"\"\n",
    "    mol = Chem.MolFromSmiles(smiles)\n",
    "\n",
    "    if mol is not None:\n",
    "        return Chem.MolToSmiles(mol)\n",
    "\n",
    "    return ''\n",
    "\n",
    "\n",
    "def remove_atom_mapping_and_canonicalize_rxn_smiles(smiles: str) -> str:\n",
    "    \"\"\"\n",
    "    Remove atom mapping and canonicalize reaction SMILES.\n",
    "\n",
    "    Args:\n",
    "        smiles: reaction SMILES string, potentially not canonical with atom mapping. \n",
    "\n",
    "    Returns:\n",
    "        A canonical reaction SMILES string without atom mapping.\n",
    "    \"\"\"\n",
    "\n",
    "    smiles_without_atom_mapping = remove_atom_mapping(smiles)\n",
    "    \n",
    "    rxn_parts = smiles_without_atom_mapping.split('>')\n",
    "\n",
    "    can_rxn_parts = [canonicalize_smiles(smiles) for smiles in rxn_parts]\n",
    "\n",
    "    return '>'.join(can_rxn_parts)\n",
    "\n",
    "rxn_smiles_with_atom_mapping = '[CH3:17][S:14](=[O:15])(=[O:16])[N:11]1[CH2:10][CH2:9][N:8](Cc2ccccc2)[CH2:13][CH2:12]1.C1CCCCC1>[OH-].[OH-].[Pd+2].CCO>[CH3:17][S:14](=[O:15])(=[O:16])[N:11]1[CH2:10][CH2:9][NH:8][CH2:13][CH2:12]1'\n",
    "\n",
    "print(f\"RXN SMILES with atom mapping: {rxn_smiles_with_atom_mapping}\")\n",
    "print(\"*** Remove atom mapping ***\")\n",
    "rxn_smiles_without_atom_mapping = remove_atom_mapping_and_canonicalize_rxn_smiles(rxn_smiles_with_atom_mapping)\n",
    "print(f\"RXN SMILES without atom mapping: {rxn_smiles_without_atom_mapping}\")\n",
    "```\n",
    "\n",
    "You could import a function from the `.py` file and use it in a notebook. "
   ]
  },
  {
   "cell_type": "code",
   "execution_count": 9,
   "metadata": {},
   "outputs": [
    {
     "name": "stdout",
     "output_type": "stream",
     "text": [
      "RXN SMILES with atom mapping: [CH3:17][S:14](=[O:15])(=[O:16])[N:11]1[CH2:10][CH2:9][N:8](Cc2ccccc2)[CH2:13][CH2:12]1.C1CCCCC1>[OH-].[OH-].[Pd+2].CCO>[CH3:17][S:14](=[O:15])(=[O:16])[N:11]1[CH2:10][CH2:9][NH:8][CH2:13][CH2:12]1\n",
      "*** Remove atom mapping ***\n",
      "RXN SMILES without atom mapping: C1CCCCC1.CS(=O)(=O)N1CCN(Cc2ccccc2)CC1>CCO.[OH-].[OH-].[Pd+2]>CS(=O)(=O)N1CCNCC1\n"
     ]
    }
   ],
   "source": [
    "from amremover_script import remove_atom_mapping_and_canonicalize_rxn_smiles\n",
    "\n",
    "rxn_smiles_with_atom_mapping = '[CH3:17][S:14](=[O:15])(=[O:16])[N:11]1[CH2:10][CH2:9][N:8](Cc2ccccc2)[CH2:13][CH2:12]1.C1CCCCC1>[OH-].[OH-].[Pd+2].CCO>[CH3:17][S:14](=[O:15])(=[O:16])[N:11]1[CH2:10][CH2:9][NH:8][CH2:13][CH2:12]1'\n",
    "\n",
    "print(f\"RXN SMILES with atom mapping: {rxn_smiles_with_atom_mapping}\")\n",
    "print(\"*** Remove atom mapping ***\")\n",
    "rxn_smiles_without_atom_mapping = remove_atom_mapping_and_canonicalize_rxn_smiles(rxn_smiles_with_atom_mapping)\n",
    "print(f\"RXN SMILES without atom mapping: {rxn_smiles_without_atom_mapping}\")\n"
   ]
  },
  {
   "cell_type": "markdown",
   "metadata": {},
   "source": [
    "But the goal of this notebook is to make it into a python package. So, that you can run a `pip install -e .` in \n",
    "\n",
    "We already provide the minimal template in the `amremover_package` folder. \n",
    "\n",
    "\n",
    "You will have to add the code from `amremover_script.py`, into "
   ]
  }
 ],
 "metadata": {
  "kernelspec": {
   "display_name": "Python 3 (ipykernel)",
   "language": "python",
   "name": "python3"
  },
  "language_info": {
   "codemirror_mode": {
    "name": "ipython",
    "version": 3
   },
   "file_extension": ".py",
   "mimetype": "text/x-python",
   "name": "python",
   "nbconvert_exporter": "python",
   "pygments_lexer": "ipython3",
   "version": "3.10.14"
  }
 },
 "nbformat": 4,
 "nbformat_minor": 4
}
